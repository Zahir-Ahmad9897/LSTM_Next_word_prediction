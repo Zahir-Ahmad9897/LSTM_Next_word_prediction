{
  "nbformat": 4,
  "nbformat_minor": 0,
  "metadata": {
    "colab": {
      "provenance": []
    },
    "kernelspec": {
      "name": "python3",
      "display_name": "Python 3"
    },
    "language_info": {
      "name": "python"
    }
  },
  "cells": [
    {
      "cell_type": "code",
      "execution_count": 11,
      "metadata": {
        "colab": {
          "base_uri": "https://localhost:8080/"
        },
        "id": "SKC7VVECCX7n",
        "outputId": "408acc80-dccf-47f2-9d0f-73b4cb887732"
      },
      "outputs": [
        {
          "output_type": "stream",
          "name": "stderr",
          "text": [
            "WARNING:absl:Compiled the loaded model, but the compiled metrics have yet to be built. `model.compile_metrics` will be empty until you train or evaluate the model.\n"
          ]
        },
        {
          "output_type": "stream",
          "name": "stdout",
          "text": [
            "Drive already mounted at /content/drive; to attempt to forcibly remount, call drive.mount(\"/content/drive\", force_remount=True).\n"
          ]
        }
      ],
      "source": [
        "import numpy as np\n",
        "from tensorflow.keras.models import load_model\n",
        "from tensorflow.keras.preprocessing.text import Tokenizer\n",
        "from tensorflow.keras.preprocessing.sequence import pad_sequences\n",
        "import pickle\n",
        "from google.colab import drive\n",
        "drive.mount('/content/drive')\n",
        "model = load_model('/content/drive/MyDrive/LSTM_Next_Word_Prediction_Model.h5')\n",
        "\n",
        "# Load the tokenizer (saved previously using pickle)\n",
        "with open('/content/drive/MyDrive/tokenizer.pkl', 'rb') as f:\n",
        "    tokenizer = pickle.load(f)\n",
        "\n"
      ]
    },
    {
      "cell_type": "code",
      "source": [
        "# Get max sequence length from model input shape\n",
        "max_seq_len = model.input_shape[1]\n",
        "\n",
        "# --- Predict Next Word ---\n",
        "def predict_next_word(input_text, num_words=1):\n",
        "    text = input_text.lower().strip()\n",
        "    for _ in range(num_words):\n",
        "        # Tokenize\n",
        "        token_list = tokenizer.texts_to_sequences([text])[0]\n",
        "        token_list = token_list[-(max_seq_len - 1):]  # keep the last n tokens\n",
        "\n",
        "        # Pad\n",
        "        padded = pad_sequences([token_list], maxlen=max_seq_len - 1, padding='pre')\n",
        "\n",
        "        # Predict\n",
        "        predicted_probs = model.predict(padded, verbose=0)\n",
        "        predicted_index = np.argmax(predicted_probs)\n",
        "\n",
        "        # Map back to word\n",
        "        for word, index in tokenizer.word_index.items():\n",
        "            if index == predicted_index:\n",
        "                text += ' ' + word\n",
        "                break\n",
        "    return text\n"
      ],
      "metadata": {
        "id": "v1iV-9j5C_Ef"
      },
      "execution_count": 12,
      "outputs": []
    }
  ]
}